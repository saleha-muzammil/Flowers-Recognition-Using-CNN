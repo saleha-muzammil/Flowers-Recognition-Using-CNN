{
 "cells": [
  {
   "cell_type": "code",
   "execution_count": 1,
   "metadata": {},
   "outputs": [],
   "source": [
    "import numpy as np \n",
    "import pandas as pd \n",
    "import cv2 \n",
    "import os\n",
    "from sklearn.model_selection import train_test_split\n",
    "import matplotlib.pyplot as plt \n",
    "import random as rn\n",
    "import pandas as pd\n",
    "\n",
    "\n",
    "list_dir= ['daisy', 'dandelion', 'rose', 'sunflower', 'tulip']"
   ]
  },
  {
   "cell_type": "code",
   "execution_count": 2,
   "metadata": {},
   "outputs": [
    {
     "name": "stderr",
     "output_type": "stream",
     "text": [
      "2023-04-28 23:13:36.926532: I tensorflow/tsl/cuda/cudart_stub.cc:28] Could not find cuda drivers on your machine, GPU will not be used.\n",
      "2023-04-28 23:13:37.506650: I tensorflow/tsl/cuda/cudart_stub.cc:28] Could not find cuda drivers on your machine, GPU will not be used.\n",
      "2023-04-28 23:13:37.511037: I tensorflow/core/platform/cpu_feature_guard.cc:182] This TensorFlow binary is optimized to use available CPU instructions in performance-critical operations.\n",
      "To enable the following instructions: AVX2 FMA, in other operations, rebuild TensorFlow with the appropriate compiler flags.\n",
      "2023-04-28 23:13:41.640101: W tensorflow/compiler/tf2tensorrt/utils/py_utils.cc:38] TF-TRT Warning: Could not find TensorRT\n"
     ]
    },
    {
     "name": "stdout",
     "output_type": "stream",
     "text": [
      "x_train shape:  (3453, 100, 100, 3)\n",
      "x_test shape:  (864, 100, 100, 3)\n",
      "y_train shape:  (3453, 5)\n",
      "y_test shape:  (864, 5)\n"
     ]
    }
   ],
   "source": [
    "X=[]\n",
    "Z=[]\n",
    "\n",
    "def assign_label (flower_type, img):\n",
    "  if (flower_type== 'daisy'):\n",
    "    return 1 \n",
    "  elif (flower_type== 'dandelion'):\n",
    "    return 2 \n",
    "  elif (flower_type=='rose'):\n",
    "    return 3 \n",
    "  elif (flower_type=='sunflower'):\n",
    "    return 4\n",
    "  else:\n",
    "    return 0\n",
    "  \n",
    "\n",
    "for flower in list_dir:\n",
    "    \n",
    "    inputdataset = f\"/home/saleha/Desktop/projects/dataset/flowers/{flower}\"\n",
    "    cleandataset = f\"/home/saleha/Desktop/projects/cleaned/flowers/{flower}\"\n",
    "\n",
    "    if not os.path.exists(cleandataset):\n",
    "       os.makedirs(cleandataset)\n",
    "\n",
    "    for filename in os.listdir(inputdataset):\n",
    "            img= cv2.imread((os.path.join(inputdataset, filename)), cv2.IMREAD_COLOR)\n",
    "            img= cv2.resize(img,(100,100))\n",
    "\n",
    "            label = assign_label(str(flower),img)\n",
    "            X.append(np.array(img/255))\n",
    "            Z.append(label)\n",
    "\n",
    "\n",
    "from sklearn.preprocessing import LabelEncoder\n",
    "from keras.utils import to_categorical\n",
    "\n",
    "# f,ax = plt.subplots(7,3)\n",
    "# f.set_size_inches(15,15)\n",
    "# for i in range(7):\n",
    "#     for j in range(3):\n",
    "#         l = rn.randint(0,len(Z))\n",
    "#         ax[i,j].imshow(X[l])\n",
    "#         ax[i,j].set_title(\"Flower: \" + str(Z[l]))\n",
    "\n",
    "        \n",
    "# #plt.tight_layout()\n",
    "\n",
    "labelEncoder = LabelEncoder()\n",
    "Y = labelEncoder.fit_transform(Z)\n",
    "Y = to_categorical(Y,5)\n",
    "X = np.array(X)\n",
    "X= X/255 \n",
    "x_train, x_test, y_train, y_test = train_test_split(X, Y, test_size = 0.2, random_state=42)\n",
    "print(\"x_train shape: \", x_train.shape)\n",
    "print(\"x_test shape: \", x_test.shape)\n",
    "print(\"y_train shape: \", y_train.shape)\n",
    "print(\"y_test shape: \", y_test.shape)"
   ]
  },
  {
   "cell_type": "code",
   "execution_count": 5,
   "metadata": {},
   "outputs": [
    {
     "data": {
      "text/plain": [
       "3453"
      ]
     },
     "execution_count": 5,
     "metadata": {},
     "output_type": "execute_result"
    }
   ],
   "source": [
    "y_train.size"
   ]
  },
  {
   "cell_type": "code",
   "execution_count": 4,
   "metadata": {},
   "outputs": [
    {
     "name": "stderr",
     "output_type": "stream",
     "text": [
      "/home/saleha/.local/lib/python3.10/site-packages/keras/optimizers/legacy/adam.py:117: UserWarning: The `lr` argument is deprecated, use `learning_rate` instead.\n",
      "  super().__init__(name, **kwargs)\n",
      "2023-04-28 23:15:01.074885: W tensorflow/tsl/framework/cpu_allocator_impl.cc:83] Allocation of 414360000 exceeds 10% of free system memory.\n"
     ]
    },
    {
     "name": "stdout",
     "output_type": "stream",
     "text": [
      "Epoch 1/10\n",
      "108/108 [==============================] - 126s 1s/step - loss: 1.6060 - accuracy: 0.2233 - val_loss: 1.5966 - val_accuracy: 0.2581\n",
      "Epoch 2/10\n",
      "108/108 [==============================] - 110s 1s/step - loss: 1.6014 - accuracy: 0.2285 - val_loss: 1.5974 - val_accuracy: 0.2581\n",
      "Epoch 3/10\n",
      "108/108 [==============================] - 143s 1s/step - loss: 1.6006 - accuracy: 0.2366 - val_loss: 1.5971 - val_accuracy: 0.2581\n",
      "Epoch 4/10\n",
      "108/108 [==============================] - 148s 1s/step - loss: 1.6003 - accuracy: 0.2256 - val_loss: 1.5955 - val_accuracy: 0.2581\n",
      "Epoch 5/10\n",
      "108/108 [==============================] - 158s 1s/step - loss: 1.6012 - accuracy: 0.2349 - val_loss: 1.5962 - val_accuracy: 0.2581\n",
      "Epoch 6/10\n",
      "108/108 [==============================] - 143s 1s/step - loss: 1.6003 - accuracy: 0.2357 - val_loss: 1.5962 - val_accuracy: 0.2581\n",
      "Epoch 7/10\n",
      "108/108 [==============================] - 100s 932ms/step - loss: 1.6003 - accuracy: 0.2343 - val_loss: 1.5971 - val_accuracy: 0.2581\n",
      "Epoch 8/10\n",
      "108/108 [==============================] - 102s 944ms/step - loss: 1.6003 - accuracy: 0.2401 - val_loss: 1.5966 - val_accuracy: 0.2581\n",
      "Epoch 9/10\n",
      "108/108 [==============================] - 99s 919ms/step - loss: 1.6003 - accuracy: 0.2337 - val_loss: 1.5981 - val_accuracy: 0.2581\n",
      "Epoch 10/10\n",
      "108/108 [==============================] - 112s 1s/step - loss: 1.6003 - accuracy: 0.2354 - val_loss: 1.5965 - val_accuracy: 0.2581\n"
     ]
    },
    {
     "data": {
      "text/plain": [
       "<keras.callbacks.History at 0x7fd4df616740>"
      ]
     },
     "execution_count": 4,
     "metadata": {},
     "output_type": "execute_result"
    }
   ],
   "source": [
    "from keras.models import Sequential\n",
    "from keras.layers import Dense, Flatten\n",
    "from keras.layers.convolutional import Conv2D, MaxPooling2D\n",
    "\n",
    "# Define model architecture\n",
    "model = Sequential()\n",
    "model.add(Conv2D(filters = 32, kernel_size=(3,3), activation=\"relu\", input_shape = (100,100,3)))\n",
    "model.add(MaxPooling2D(pool_size=(2,2)))\n",
    "\n",
    "model.add(Conv2D(filters = 64, kernel_size = (3,3), activation = \"relu\"))\n",
    "model.add(MaxPooling2D(pool_size=(2,2)))\n",
    "\n",
    "model.add(Conv2D(filters = 96, kernel_size = (3,3), activation = \"relu\"))\n",
    "model.add(MaxPooling2D(pool_size=(2,2)))\n",
    "\n",
    "model.add(Conv2D(filters = 96, kernel_size = (3,3), activation = \"relu\"))\n",
    "model.add(MaxPooling2D(pool_size=(2,2)))\n",
    "\n",
    "\n",
    "model.add(Flatten())\n",
    "model.add(Dense(1024, activation=\"relu\"))\n",
    "model.add(Dense(1024, activation=\"relu\"))\n",
    "model.add(Dense(5, activation=\"softmax\"))\n",
    "\n",
    "epochs = 10\n",
    "batch_size = 32\n",
    "\n",
    "from keras.optimizers import Adam\n",
    "opt = Adam(lr=0.01)\n",
    "\n",
    "model.compile(optimizer=Adam(learning_rate=0.01), loss=\"categorical_crossentropy\", metrics = [\"accuracy\"])\n",
    "\n",
    "# Compile the model\n",
    "\n",
    "\n",
    "# Train the model\n",
    "model.fit(x_train, y_train, validation_data=(x_test, y_test), epochs=10)\n"
   ]
  },
  {
   "cell_type": "code",
   "execution_count": 5,
   "metadata": {},
   "outputs": [
    {
     "name": "stderr",
     "output_type": "stream",
     "text": [
      "2023-04-28 23:36:12.228891: W tensorflow/tsl/framework/cpu_allocator_impl.cc:83] Allocation of 103680000 exceeds 10% of free system memory.\n"
     ]
    },
    {
     "name": "stdout",
     "output_type": "stream",
     "text": [
      "Test accuracy: 25.81%\n"
     ]
    }
   ],
   "source": [
    "score = model.evaluate(x_test, y_test, verbose=0)\n",
    "print(\"Test accuracy: %.2f%%\" % (score[1]*100))\n"
   ]
  },
  {
   "cell_type": "code",
   "execution_count": 7,
   "metadata": {},
   "outputs": [
    {
     "name": "stderr",
     "output_type": "stream",
     "text": [
      "2023-04-28 23:37:49.982805: W tensorflow/tsl/framework/cpu_allocator_impl.cc:83] Allocation of 103680000 exceeds 10% of free system memory.\n"
     ]
    },
    {
     "name": "stdout",
     "output_type": "stream",
     "text": [
      "27/27 [==============================] - 5s 193ms/step\n",
      "              precision    recall  f1-score   support\n",
      "\n",
      "           0       0.00      0.00      0.00       189\n",
      "           1       0.00      0.00      0.00       162\n",
      "           2       0.26      1.00      0.41       223\n",
      "           3       0.00      0.00      0.00       155\n",
      "           4       0.00      0.00      0.00       135\n",
      "\n",
      "    accuracy                           0.26       864\n",
      "   macro avg       0.05      0.20      0.08       864\n",
      "weighted avg       0.07      0.26      0.11       864\n",
      "\n"
     ]
    },
    {
     "name": "stderr",
     "output_type": "stream",
     "text": [
      "/home/saleha/.local/lib/python3.10/site-packages/sklearn/metrics/_classification.py:1344: UndefinedMetricWarning: Precision and F-score are ill-defined and being set to 0.0 in labels with no predicted samples. Use `zero_division` parameter to control this behavior.\n",
      "  _warn_prf(average, modifier, msg_start, len(result))\n",
      "/home/saleha/.local/lib/python3.10/site-packages/sklearn/metrics/_classification.py:1344: UndefinedMetricWarning: Precision and F-score are ill-defined and being set to 0.0 in labels with no predicted samples. Use `zero_division` parameter to control this behavior.\n",
      "  _warn_prf(average, modifier, msg_start, len(result))\n",
      "/home/saleha/.local/lib/python3.10/site-packages/sklearn/metrics/_classification.py:1344: UndefinedMetricWarning: Precision and F-score are ill-defined and being set to 0.0 in labels with no predicted samples. Use `zero_division` parameter to control this behavior.\n",
      "  _warn_prf(average, modifier, msg_start, len(result))\n"
     ]
    }
   ],
   "source": [
    "from sklearn.metrics import classification_report\n",
    "\n",
    "y_prob = model.predict(x_test)\n",
    "y_pred = np.argmax(y_prob, axis=1)\n",
    "\n",
    "report = classification_report(np.argmax(y_test, axis=1), y_pred)\n",
    "print(report)\n"
   ]
  },
  {
   "cell_type": "code",
   "execution_count": 8,
   "metadata": {},
   "outputs": [
    {
     "name": "stderr",
     "output_type": "stream",
     "text": [
      "2023-04-28 23:38:25.940641: W tensorflow/tsl/framework/cpu_allocator_impl.cc:83] Allocation of 103680000 exceeds 10% of free system memory.\n"
     ]
    },
    {
     "name": "stdout",
     "output_type": "stream",
     "text": [
      "27/27 [==============================] - 5s 169ms/step\n"
     ]
    },
    {
     "data": {
      "image/png": "[encoded data removed]",
      "text/plain": [
       "<Figure size 640x480 with 1 Axes>"
      ]
     },
     "metadata": {},
     "output_type": "display_data"
    }
   ],
   "source": [
    "from sklearn.metrics import roc_curve, auc\n",
    "\n",
    "y_prob = model.predict(x_test)\n",
    "fpr, tpr, thresholds = roc_curve(y_test.ravel(), y_prob.ravel())\n",
    "\n",
    "roc_auc = auc(fpr, tpr)\n",
    "\n",
    "plt.plot(fpr, tpr, lw=1, label='ROC (AUC = %0.2f)' % (roc_auc))\n",
    "plt.plot([0, 1], [0, 1], '--', color='gray', lw=1)\n",
    "plt.xlabel('False Positive Rate')\n",
    "plt.ylabel('True Positive Rate')\n",
    "plt.title('Receiver Operating Characteristic')\n",
    "plt.legend()\n",
    "plt.show()\n"
   ]
  }
 ],
 "metadata": {
  "kernelspec": {
   "display_name": "Python 3 (ipykernel)",
   "language": "python",
   "name": "python3"
  },
  "language_info": {
   "codemirror_mode": {
    "name": "ipython",
    "version": 3
   },
   "file_extension": ".py",
   "mimetype": "text/x-python",
   "name": "python",
   "nbconvert_exporter": "python",
   "pygments_lexer": "ipython3",
   "version": "3.10.6"
  }
 },
 "nbformat": 4,
 "nbformat_minor": 2
}
